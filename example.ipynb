{
 "cells": [
  {
   "cell_type": "code",
   "execution_count": null,
   "metadata": {},
   "outputs": [],
   "source": [
    "import torch\n",
    "import librosa\n",
    "import numpy as np\n",
    "import matplotlib.pyplot as plt\n",
    "import filterbanks as fb\n",
    "from IPython.display import Audio, display, HTML"
   ]
  },
  {
   "cell_type": "markdown",
   "metadata": {},
   "source": [
    "## **1. Compute subband decompositions**"
   ]
  },
  {
   "cell_type": "code",
   "execution_count": null,
   "metadata": {},
   "outputs": [],
   "source": [
    "# Load audio to filter ---------------\n",
    "audio_path    = \"your_sound.wav\"\n",
    "sr = 44100\n",
    "audio, _ = librosa.load(audio_path, sr=sr)\n",
    "\n",
    "# Chop audio ------------------------\n",
    "seconds = 2\n",
    "size = sr * seconds\n",
    "audio = audio[:size]\n",
    "print(\"og audio\")\n",
    "display(Audio(audio, rate=sr))\n",
    "audio = torch.tensor(audio).float()\n",
    "\n",
    "# Create filterbank -----------------      \n",
    "N_filter_bank = 16\n",
    "erb_bank = fb.EqualRectangularBandwidth(size, sr, N_filter_bank, 20, sr // 2) # you may as well use Linear or Logarithmic filterbanks\n",
    "\n",
    "# Apply filterbank ------------------\n",
    "subbands_signal = erb_bank.generate_subbands(audio)[1:-1, :]\n",
    "\n",
    "def plot_signals(matrix):\n",
    "    num_signals = matrix.shape[0]\n",
    "    fig, axes = plt.subplots(4, 4, figsize=(15, 10))\n",
    "    \n",
    "    for i in range(num_signals):\n",
    "        row = i // 4\n",
    "        col = i % 4\n",
    "        size = len(matrix[i])\n",
    "        axes[row, col].plot(np.arange(0,size)*(1/sr), matrix[i].detach().cpu().numpy())\n",
    "        axes[row, col].set_title(f'Subband {i+1}')\n",
    "        axes[row, col].set_xlabel('Time (s)')\n",
    "        axes[row, col].set_ylabel('Amplitude')\n",
    "\n",
    "    # Hide any unused subplots\n",
    "    for i in range(num_signals, 16):\n",
    "        row = i // 4\n",
    "        col = i % 4\n",
    "        axes[row, col].axis('off')\n",
    "\n",
    "    plt.tight_layout()\n",
    "    plt.show()\n",
    "\n",
    "plot_signals(subbands_signal)\n",
    "\n",
    "# Generate HTML for a 4x4 matrix of playable audios\n",
    "html_code = \"<table style='width:100%; border-spacing:10px;'>\"\n",
    "\n",
    "for i in range(4):\n",
    "    html_code += \"<tr>\"\n",
    "    for j in range(4):\n",
    "        index = i * 4 + j\n",
    "        if index < len(subbands_signal):\n",
    "            # Embed each audio widget in a cell\n",
    "            audio_html = Audio(subbands_signal[index].detach().cpu().numpy(), rate=sr)._repr_html_()\n",
    "            html_code += f\"<td style='text-align:center; padding:10px;'>{audio_html}<br>Subband {index+1}</td>\"\n",
    "        else:\n",
    "            # Empty cell if no audio is left\n",
    "            html_code += \"<td></td>\"\n",
    "    html_code += \"</tr>\"\n",
    "\n",
    "html_code += \"</table>\"\n",
    "\n",
    "# Display the matrix\n",
    "display(HTML(html_code))"
   ]
  },
  {
   "cell_type": "markdown",
   "metadata": {},
   "source": [
    "## **2. Visualize the Filterbanks**"
   ]
  },
  {
   "cell_type": "code",
   "execution_count": null,
   "metadata": {},
   "outputs": [],
   "source": [
    "# Create filterbank -----------------      \n",
    "sr = 44100\n",
    "size = 2 ** 15\n",
    "N_filter_bank = 16\n",
    "erb_bank = fb.EqualRectangularBandwidth(size, sr, N_filter_bank, 20, sr // 2) \n",
    "linear_bank = fb.Linear(size, sr, N_filter_bank, 20, sr // 2)  \n",
    "logarithmic_bank = fb.Logarithmic(size, sr, N_filter_bank, 20, sr // 2)  \n",
    "\n",
    "def plot_filter(filter_bank, title):\n",
    "    plt.figure(figsize=(10, 6))\n",
    "    for i in range(filter_bank.filters.shape[1]):  # Access the shape of the filters\n",
    "        plt.plot(filter_bank.freqs, filter_bank.filters[:, i].detach().cpu().numpy(), label=f'Filter {i+1}')\n",
    "\n",
    "    plt.title(title)\n",
    "    plt.xlabel(\"Frequency (Hz)\")\n",
    "    plt.ylabel(\"Amplitude\")\n",
    "    plt.grid(True)\n",
    "    plt.legend()\n",
    "    plt.show()\n",
    "\n",
    "plot_filter(linear_bank, \"Linear Filterbank\")\n",
    "plot_filter(erb_bank, \"ERB Filterbank\")\n",
    "plot_filter(logarithmic_bank, \"Logarithmic Filterbank\")\n"
   ]
  }
 ],
 "metadata": {
  "kernelspec": {
   "display_name": "venv_torch_filterbanks",
   "language": "python",
   "name": "python3"
  },
  "language_info": {
   "codemirror_mode": {
    "name": "ipython",
    "version": 3
   },
   "file_extension": ".py",
   "mimetype": "text/x-python",
   "name": "python",
   "nbconvert_exporter": "python",
   "pygments_lexer": "ipython3",
   "version": "3.12.3"
  }
 },
 "nbformat": 4,
 "nbformat_minor": 2
}
